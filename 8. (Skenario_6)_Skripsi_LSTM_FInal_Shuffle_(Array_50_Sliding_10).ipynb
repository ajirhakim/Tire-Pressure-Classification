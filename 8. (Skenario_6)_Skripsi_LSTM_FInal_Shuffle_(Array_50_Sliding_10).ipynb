{
  "nbformat": 4,
  "nbformat_minor": 0,
  "metadata": {
    "colab": {
      "provenance": []
    },
    "kernelspec": {
      "name": "python3",
      "display_name": "Python 3"
    },
    "language_info": {
      "name": "python"
    }
  },
  "cells": [
    {
      "cell_type": "code",
      "execution_count": null,
      "metadata": {
        "colab": {
          "base_uri": "https://localhost:8080/"
        },
        "id": "jsGiCzxVc02K",
        "outputId": "b309b319-dc55-4335-9b19-5a78d8a1c17e"
      },
      "outputs": [
        {
          "output_type": "stream",
          "name": "stdout",
          "text": [
            "Mounted at /content/drive\n"
          ]
        }
      ],
      "source": [
        "import pandas as pd\n",
        "import numpy as np\n",
        "from sklearn.preprocessing import LabelEncoder\n",
        "from sklearn.model_selection import train_test_split, StratifiedKFold\n",
        "from tensorflow.keras.models import Sequential\n",
        "from tensorflow.keras.layers import LSTM, Dense, Dropout, BatchNormalization\n",
        "from tensorflow.keras.callbacks import EarlyStopping\n",
        "from tensorflow.keras.optimizers import Adam\n",
        "from tensorflow.keras.utils import to_categorical\n",
        "import matplotlib.pyplot as plt\n",
        "import seaborn as sns\n",
        "from sklearn.metrics import confusion_matrix, classification_report\n",
        "import tensorflow as tf\n",
        "from google.colab import drive\n",
        "drive.mount(\"/content/drive\")"
      ]
    },
    {
      "cell_type": "code",
      "source": [
        "# Load the data &inspect data\n",
        "data = pd.read_csv('/content/drive/MyDrive/Skripsi_Aji Rahman Hakim/Data/undersampled_data.csv')\n",
        "data.head()"
      ],
      "metadata": {
        "colab": {
          "base_uri": "https://localhost:8080/",
          "height": 206
        },
        "id": "Fc38P7sqc-ym",
        "outputId": "ce93a446-7c2a-4d54-978b-3f132a7ebcc5"
      },
      "execution_count": null,
      "outputs": [
        {
          "output_type": "execute_result",
          "data": {
            "text/plain": [
              "   AccX  AccY  AccZ  GyroX  GyroY  GyroZ                Label\n",
              "0  0.15  0.03  1.04  -0.09  -0.04  -0.03  Ban Belakang Kempes\n",
              "1  0.16  0.05  1.03  -0.09   0.00  -0.03  Ban Belakang Kempes\n",
              "2  0.15  0.03  1.03  -0.09   0.02  -0.02  Ban Belakang Kempes\n",
              "3  0.12  0.03  1.03  -0.09   0.00  -0.02  Ban Belakang Kempes\n",
              "4  0.14  0.03  1.04  -0.09  -0.03  -0.03  Ban Belakang Kempes"
            ],
            "text/html": [
              "\n",
              "  <div id=\"df-643bc83e-c854-4591-b63d-8ff2d4537a29\" class=\"colab-df-container\">\n",
              "    <div>\n",
              "<style scoped>\n",
              "    .dataframe tbody tr th:only-of-type {\n",
              "        vertical-align: middle;\n",
              "    }\n",
              "\n",
              "    .dataframe tbody tr th {\n",
              "        vertical-align: top;\n",
              "    }\n",
              "\n",
              "    .dataframe thead th {\n",
              "        text-align: right;\n",
              "    }\n",
              "</style>\n",
              "<table border=\"1\" class=\"dataframe\">\n",
              "  <thead>\n",
              "    <tr style=\"text-align: right;\">\n",
              "      <th></th>\n",
              "      <th>AccX</th>\n",
              "      <th>AccY</th>\n",
              "      <th>AccZ</th>\n",
              "      <th>GyroX</th>\n",
              "      <th>GyroY</th>\n",
              "      <th>GyroZ</th>\n",
              "      <th>Label</th>\n",
              "    </tr>\n",
              "  </thead>\n",
              "  <tbody>\n",
              "    <tr>\n",
              "      <th>0</th>\n",
              "      <td>0.15</td>\n",
              "      <td>0.03</td>\n",
              "      <td>1.04</td>\n",
              "      <td>-0.09</td>\n",
              "      <td>-0.04</td>\n",
              "      <td>-0.03</td>\n",
              "      <td>Ban Belakang Kempes</td>\n",
              "    </tr>\n",
              "    <tr>\n",
              "      <th>1</th>\n",
              "      <td>0.16</td>\n",
              "      <td>0.05</td>\n",
              "      <td>1.03</td>\n",
              "      <td>-0.09</td>\n",
              "      <td>0.00</td>\n",
              "      <td>-0.03</td>\n",
              "      <td>Ban Belakang Kempes</td>\n",
              "    </tr>\n",
              "    <tr>\n",
              "      <th>2</th>\n",
              "      <td>0.15</td>\n",
              "      <td>0.03</td>\n",
              "      <td>1.03</td>\n",
              "      <td>-0.09</td>\n",
              "      <td>0.02</td>\n",
              "      <td>-0.02</td>\n",
              "      <td>Ban Belakang Kempes</td>\n",
              "    </tr>\n",
              "    <tr>\n",
              "      <th>3</th>\n",
              "      <td>0.12</td>\n",
              "      <td>0.03</td>\n",
              "      <td>1.03</td>\n",
              "      <td>-0.09</td>\n",
              "      <td>0.00</td>\n",
              "      <td>-0.02</td>\n",
              "      <td>Ban Belakang Kempes</td>\n",
              "    </tr>\n",
              "    <tr>\n",
              "      <th>4</th>\n",
              "      <td>0.14</td>\n",
              "      <td>0.03</td>\n",
              "      <td>1.04</td>\n",
              "      <td>-0.09</td>\n",
              "      <td>-0.03</td>\n",
              "      <td>-0.03</td>\n",
              "      <td>Ban Belakang Kempes</td>\n",
              "    </tr>\n",
              "  </tbody>\n",
              "</table>\n",
              "</div>\n",
              "    <div class=\"colab-df-buttons\">\n",
              "\n",
              "  <div class=\"colab-df-container\">\n",
              "    <button class=\"colab-df-convert\" onclick=\"convertToInteractive('df-643bc83e-c854-4591-b63d-8ff2d4537a29')\"\n",
              "            title=\"Convert this dataframe to an interactive table.\"\n",
              "            style=\"display:none;\">\n",
              "\n",
              "  <svg xmlns=\"http://www.w3.org/2000/svg\" height=\"24px\" viewBox=\"0 -960 960 960\">\n",
              "    <path d=\"M120-120v-720h720v720H120Zm60-500h600v-160H180v160Zm220 220h160v-160H400v160Zm0 220h160v-160H400v160ZM180-400h160v-160H180v160Zm440 0h160v-160H620v160ZM180-180h160v-160H180v160Zm440 0h160v-160H620v160Z\"/>\n",
              "  </svg>\n",
              "    </button>\n",
              "\n",
              "  <style>\n",
              "    .colab-df-container {\n",
              "      display:flex;\n",
              "      gap: 12px;\n",
              "    }\n",
              "\n",
              "    .colab-df-convert {\n",
              "      background-color: #E8F0FE;\n",
              "      border: none;\n",
              "      border-radius: 50%;\n",
              "      cursor: pointer;\n",
              "      display: none;\n",
              "      fill: #1967D2;\n",
              "      height: 32px;\n",
              "      padding: 0 0 0 0;\n",
              "      width: 32px;\n",
              "    }\n",
              "\n",
              "    .colab-df-convert:hover {\n",
              "      background-color: #E2EBFA;\n",
              "      box-shadow: 0px 1px 2px rgba(60, 64, 67, 0.3), 0px 1px 3px 1px rgba(60, 64, 67, 0.15);\n",
              "      fill: #174EA6;\n",
              "    }\n",
              "\n",
              "    .colab-df-buttons div {\n",
              "      margin-bottom: 4px;\n",
              "    }\n",
              "\n",
              "    [theme=dark] .colab-df-convert {\n",
              "      background-color: #3B4455;\n",
              "      fill: #D2E3FC;\n",
              "    }\n",
              "\n",
              "    [theme=dark] .colab-df-convert:hover {\n",
              "      background-color: #434B5C;\n",
              "      box-shadow: 0px 1px 3px 1px rgba(0, 0, 0, 0.15);\n",
              "      filter: drop-shadow(0px 1px 2px rgba(0, 0, 0, 0.3));\n",
              "      fill: #FFFFFF;\n",
              "    }\n",
              "  </style>\n",
              "\n",
              "    <script>\n",
              "      const buttonEl =\n",
              "        document.querySelector('#df-643bc83e-c854-4591-b63d-8ff2d4537a29 button.colab-df-convert');\n",
              "      buttonEl.style.display =\n",
              "        google.colab.kernel.accessAllowed ? 'block' : 'none';\n",
              "\n",
              "      async function convertToInteractive(key) {\n",
              "        const element = document.querySelector('#df-643bc83e-c854-4591-b63d-8ff2d4537a29');\n",
              "        const dataTable =\n",
              "          await google.colab.kernel.invokeFunction('convertToInteractive',\n",
              "                                                    [key], {});\n",
              "        if (!dataTable) return;\n",
              "\n",
              "        const docLinkHtml = 'Like what you see? Visit the ' +\n",
              "          '<a target=\"_blank\" href=https://colab.research.google.com/notebooks/data_table.ipynb>data table notebook</a>'\n",
              "          + ' to learn more about interactive tables.';\n",
              "        element.innerHTML = '';\n",
              "        dataTable['output_type'] = 'display_data';\n",
              "        await google.colab.output.renderOutput(dataTable, element);\n",
              "        const docLink = document.createElement('div');\n",
              "        docLink.innerHTML = docLinkHtml;\n",
              "        element.appendChild(docLink);\n",
              "      }\n",
              "    </script>\n",
              "  </div>\n",
              "\n",
              "\n",
              "<div id=\"df-a0810d17-96e3-42af-a1e1-7a8d01236c3e\">\n",
              "  <button class=\"colab-df-quickchart\" onclick=\"quickchart('df-a0810d17-96e3-42af-a1e1-7a8d01236c3e')\"\n",
              "            title=\"Suggest charts\"\n",
              "            style=\"display:none;\">\n",
              "\n",
              "<svg xmlns=\"http://www.w3.org/2000/svg\" height=\"24px\"viewBox=\"0 0 24 24\"\n",
              "     width=\"24px\">\n",
              "    <g>\n",
              "        <path d=\"M19 3H5c-1.1 0-2 .9-2 2v14c0 1.1.9 2 2 2h14c1.1 0 2-.9 2-2V5c0-1.1-.9-2-2-2zM9 17H7v-7h2v7zm4 0h-2V7h2v10zm4 0h-2v-4h2v4z\"/>\n",
              "    </g>\n",
              "</svg>\n",
              "  </button>\n",
              "\n",
              "<style>\n",
              "  .colab-df-quickchart {\n",
              "      --bg-color: #E8F0FE;\n",
              "      --fill-color: #1967D2;\n",
              "      --hover-bg-color: #E2EBFA;\n",
              "      --hover-fill-color: #174EA6;\n",
              "      --disabled-fill-color: #AAA;\n",
              "      --disabled-bg-color: #DDD;\n",
              "  }\n",
              "\n",
              "  [theme=dark] .colab-df-quickchart {\n",
              "      --bg-color: #3B4455;\n",
              "      --fill-color: #D2E3FC;\n",
              "      --hover-bg-color: #434B5C;\n",
              "      --hover-fill-color: #FFFFFF;\n",
              "      --disabled-bg-color: #3B4455;\n",
              "      --disabled-fill-color: #666;\n",
              "  }\n",
              "\n",
              "  .colab-df-quickchart {\n",
              "    background-color: var(--bg-color);\n",
              "    border: none;\n",
              "    border-radius: 50%;\n",
              "    cursor: pointer;\n",
              "    display: none;\n",
              "    fill: var(--fill-color);\n",
              "    height: 32px;\n",
              "    padding: 0;\n",
              "    width: 32px;\n",
              "  }\n",
              "\n",
              "  .colab-df-quickchart:hover {\n",
              "    background-color: var(--hover-bg-color);\n",
              "    box-shadow: 0 1px 2px rgba(60, 64, 67, 0.3), 0 1px 3px 1px rgba(60, 64, 67, 0.15);\n",
              "    fill: var(--button-hover-fill-color);\n",
              "  }\n",
              "\n",
              "  .colab-df-quickchart-complete:disabled,\n",
              "  .colab-df-quickchart-complete:disabled:hover {\n",
              "    background-color: var(--disabled-bg-color);\n",
              "    fill: var(--disabled-fill-color);\n",
              "    box-shadow: none;\n",
              "  }\n",
              "\n",
              "  .colab-df-spinner {\n",
              "    border: 2px solid var(--fill-color);\n",
              "    border-color: transparent;\n",
              "    border-bottom-color: var(--fill-color);\n",
              "    animation:\n",
              "      spin 1s steps(1) infinite;\n",
              "  }\n",
              "\n",
              "  @keyframes spin {\n",
              "    0% {\n",
              "      border-color: transparent;\n",
              "      border-bottom-color: var(--fill-color);\n",
              "      border-left-color: var(--fill-color);\n",
              "    }\n",
              "    20% {\n",
              "      border-color: transparent;\n",
              "      border-left-color: var(--fill-color);\n",
              "      border-top-color: var(--fill-color);\n",
              "    }\n",
              "    30% {\n",
              "      border-color: transparent;\n",
              "      border-left-color: var(--fill-color);\n",
              "      border-top-color: var(--fill-color);\n",
              "      border-right-color: var(--fill-color);\n",
              "    }\n",
              "    40% {\n",
              "      border-color: transparent;\n",
              "      border-right-color: var(--fill-color);\n",
              "      border-top-color: var(--fill-color);\n",
              "    }\n",
              "    60% {\n",
              "      border-color: transparent;\n",
              "      border-right-color: var(--fill-color);\n",
              "    }\n",
              "    80% {\n",
              "      border-color: transparent;\n",
              "      border-right-color: var(--fill-color);\n",
              "      border-bottom-color: var(--fill-color);\n",
              "    }\n",
              "    90% {\n",
              "      border-color: transparent;\n",
              "      border-bottom-color: var(--fill-color);\n",
              "    }\n",
              "  }\n",
              "</style>\n",
              "\n",
              "  <script>\n",
              "    async function quickchart(key) {\n",
              "      const quickchartButtonEl =\n",
              "        document.querySelector('#' + key + ' button');\n",
              "      quickchartButtonEl.disabled = true;  // To prevent multiple clicks.\n",
              "      quickchartButtonEl.classList.add('colab-df-spinner');\n",
              "      try {\n",
              "        const charts = await google.colab.kernel.invokeFunction(\n",
              "            'suggestCharts', [key], {});\n",
              "      } catch (error) {\n",
              "        console.error('Error during call to suggestCharts:', error);\n",
              "      }\n",
              "      quickchartButtonEl.classList.remove('colab-df-spinner');\n",
              "      quickchartButtonEl.classList.add('colab-df-quickchart-complete');\n",
              "    }\n",
              "    (() => {\n",
              "      let quickchartButtonEl =\n",
              "        document.querySelector('#df-a0810d17-96e3-42af-a1e1-7a8d01236c3e button');\n",
              "      quickchartButtonEl.style.display =\n",
              "        google.colab.kernel.accessAllowed ? 'block' : 'none';\n",
              "    })();\n",
              "  </script>\n",
              "</div>\n",
              "\n",
              "    </div>\n",
              "  </div>\n"
            ],
            "application/vnd.google.colaboratory.intrinsic+json": {
              "type": "dataframe",
              "variable_name": "data"
            }
          },
          "metadata": {},
          "execution_count": 55
        }
      ]
    },
    {
      "cell_type": "code",
      "source": [
        "# Encode labels\n",
        "le = LabelEncoder()\n",
        "data['label_encoded'] = le.fit_transform(data['Label'])"
      ],
      "metadata": {
        "id": "G1nCN64CdOvJ"
      },
      "execution_count": null,
      "outputs": []
    },
    {
      "cell_type": "code",
      "source": [
        "def split_into_segments(df, segment_length=5, sampling_rate=0.1, step=10):\n",
        "    samples_per_segment = int(segment_length / sampling_rate)\n",
        "    segments = []\n",
        "    labels = []\n",
        "\n",
        "    for start in range(0, len(df) - samples_per_segment, step):  # Sliding window 10 sampel\n",
        "        end = start + samples_per_segment\n",
        "        segment = df.iloc[start:end]\n",
        "\n",
        "        if len(segment) == samples_per_segment:\n",
        "            label_mode = segment['label_encoded'].mode()[0]\n",
        "            if len(segment['label_encoded'].unique()) == 1:  # Pastikan hanya ada satu label dalam segmen\n",
        "                segments.append(segment[['AccX', 'AccY', 'AccZ', 'GyroX', 'GyroY', 'GyroZ']].values)\n",
        "                labels.append(label_mode)\n",
        "            else:\n",
        "                continue  # Lanjutkan ke window berikutnya jika label lebih dari satu\n",
        "\n",
        "    return np.array(segments), np.array(labels)\n"
      ],
      "metadata": {
        "id": "IjSzrOtFfZsh"
      },
      "execution_count": null,
      "outputs": []
    },
    {
      "cell_type": "code",
      "source": [
        "# Membagi data menjadi segmen-segmen\n",
        "X, y = split_into_segments(data)"
      ],
      "metadata": {
        "id": "oztsCYlQP9PI"
      },
      "execution_count": null,
      "outputs": []
    },
    {
      "cell_type": "code",
      "source": [
        "# One-hot encoding for labels\n",
        "y = to_categorical(y, num_classes=4)"
      ],
      "metadata": {
        "id": "2-LiKu3WQCz2"
      },
      "execution_count": null,
      "outputs": []
    },
    {
      "cell_type": "code",
      "source": [
        "# Splitting data into training and testing using stratified split\n",
        "X_train, X_test, y_train, y_test = train_test_split(X, y, test_size=0.2, stratify=y, random_state=42)"
      ],
      "metadata": {
        "id": "jbXG3ufzQEUk"
      },
      "execution_count": null,
      "outputs": []
    },
    {
      "cell_type": "code",
      "source": [
        "\n",
        "\n",
        "# Menghitung jumlah sampel per label di data pelatihan\n",
        "unique_train, counts_train = np.unique(np.argmax(y_train, axis=1), return_counts=True)\n",
        "\n",
        "# Menghitung jumlah sampel per label di data pengujian\n",
        "unique_test, counts_test = np.unique(np.argmax(y_test, axis=1), return_counts=True)\n",
        "\n",
        "# Membuat plot distribusi label\n",
        "fig, ax = plt.subplots(1, 2, figsize=(12, 5))\n",
        "\n",
        "sns.barplot(x=unique_train, y=counts_train, ax=ax[0])\n",
        "ax[0].set_title('Distribusi Label pada Data Pelatihan')\n",
        "ax[0].set_xlabel('Label')\n",
        "ax[0].set_ylabel('Jumlah Sampel')\n",
        "\n",
        "sns.barplot(x=unique_test, y=counts_test, ax=ax[1])\n",
        "ax[1].set_title('Distribusi Label pada Data Pengujian')\n",
        "ax[1].set_xlabel('Label')\n",
        "ax[1].set_ylabel('Jumlah Sampel')\n",
        "\n",
        "plt.tight_layout()\n",
        "plt.show()\n"
      ],
      "metadata": {
        "colab": {
          "base_uri": "https://localhost:8080/",
          "height": 507
        },
        "id": "z2wB2rqsmdlH",
        "outputId": "e3347ab5-a67b-4094-9500-233b5ee67ce0"
      },
      "execution_count": null,
      "outputs": [
        {
          "output_type": "display_data",
          "data": {
            "text/plain": [
              "<Figure size 1200x500 with 2 Axes>"
            ],
            "image/png": "[encoded data removed]"
          },
          "metadata": {}
        }
      ]
    },
    {
      "cell_type": "code",
      "source": [
        "# Creating the LSTM model\n",
        "model = Sequential()\n",
        "model.add(LSTM(100, return_sequences=True, input_shape=(X_train.shape[1], X_train.shape[2])))\n",
        "model.add(BatchNormalization())\n",
        "model.add(Dropout(0.2))"
      ],
      "metadata": {
        "id": "NMTU7mpXQG6J"
      },
      "execution_count": null,
      "outputs": []
    },
    {
      "cell_type": "code",
      "source": [
        "# Second LSTM layer\n",
        "model.add(LSTM(50, return_sequences=True))\n",
        "model.add(BatchNormalization())\n",
        "model.add(Dropout(0.2))"
      ],
      "metadata": {
        "id": "wRbn3X4TdcpC"
      },
      "execution_count": null,
      "outputs": []
    },
    {
      "cell_type": "code",
      "source": [
        "\n",
        "# Third LSTM layer\n",
        "model.add(LSTM(25))\n",
        "model.add(BatchNormalization())\n",
        "model.add(Dropout(0.2))"
      ],
      "metadata": {
        "id": "WyukTo0bde52"
      },
      "execution_count": null,
      "outputs": []
    },
    {
      "cell_type": "code",
      "source": [
        "# Adding a Dense output layer\n",
        "model.add(Dense(4, activation='softmax'))"
      ],
      "metadata": {
        "id": "HzhTDnpudibI"
      },
      "execution_count": null,
      "outputs": []
    },
    {
      "cell_type": "code",
      "source": [
        "# Compiling the model\n",
        "optimizer = Adam(learning_rate=0.001)\n",
        "model.compile(optimizer=optimizer, loss='categorical_crossentropy', metrics=['accuracy'])\n",
        "\n",
        "# Model summary\n",
        "model.summary()\n"
      ],
      "metadata": {
        "colab": {
          "base_uri": "https://localhost:8080/"
        },
        "id": "ACyZqOeYZ5An",
        "outputId": "96e80a83-e852-4fb1-adaf-c43719d09dcf"
      },
      "execution_count": null,
      "outputs": [
        {
          "output_type": "stream",
          "name": "stdout",
          "text": [
            "Model: \"sequential_2\"\n",
            "_________________________________________________________________\n",
            " Layer (type)                Output Shape              Param #   \n",
            "=================================================================\n",
            " lstm_6 (LSTM)               (None, 50, 100)           42800     \n",
            "                                                                 \n",
            " batch_normalization_6 (Bat  (None, 50, 100)           400       \n",
            " chNormalization)                                                \n",
            "                                                                 \n",
            " dropout_6 (Dropout)         (None, 50, 100)           0         \n",
            "                                                                 \n",
            " lstm_7 (LSTM)               (None, 50, 50)            30200     \n",
            "                                                                 \n",
            " batch_normalization_7 (Bat  (None, 50, 50)            200       \n",
            " chNormalization)                                                \n",
            "                                                                 \n",
            " dropout_7 (Dropout)         (None, 50, 50)            0         \n",
            "                                                                 \n",
            " lstm_8 (LSTM)               (None, 25)                7600      \n",
            "                                                                 \n",
            " batch_normalization_8 (Bat  (None, 25)                100       \n",
            " chNormalization)                                                \n",
            "                                                                 \n",
            " dropout_8 (Dropout)         (None, 25)                0         \n",
            "                                                                 \n",
            " dense_2 (Dense)             (None, 4)                 104       \n",
            "                                                                 \n",
            "=================================================================\n",
            "Total params: 81404 (317.98 KB)\n",
            "Trainable params: 81054 (316.62 KB)\n",
            "Non-trainable params: 350 (1.37 KB)\n",
            "_________________________________________________________________\n"
          ]
        }
      ]
    },
    {
      "cell_type": "code",
      "source": [
        "# Using early stopping\n",
        "early_stopping = EarlyStopping(monitor='val_loss', patience=20, restore_best_weights=True)\n"
      ],
      "metadata": {
        "id": "2GJPbdgUZ-oR"
      },
      "execution_count": null,
      "outputs": []
    },
    {
      "cell_type": "code",
      "source": [
        "# Training the model\n",
        "history = model.fit(X_train, y_train, epochs=50, batch_size=32, validation_data=(X_test, y_test), callbacks=[early_stopping], verbose=1)"
      ],
      "metadata": {
        "colab": {
          "base_uri": "https://localhost:8080/"
        },
        "id": "i8ljQE62QL8M",
        "outputId": "65e1e17b-9840-47de-aabf-8fa8e89f51e4"
      },
      "execution_count": null,
      "outputs": [
        {
          "output_type": "stream",
          "name": "stdout",
          "text": [
            "Epoch 1/50\n",
            "602/602 [==============================] - 71s 107ms/step - loss: 1.4196 - accuracy: 0.3396 - val_loss: 1.5052 - val_accuracy: 0.2698\n",
            "Epoch 2/50\n",
            "602/602 [==============================] - 65s 108ms/step - loss: 1.2833 - accuracy: 0.4179 - val_loss: 1.4357 - val_accuracy: 0.3101\n",
            "Epoch 3/50\n",
            "602/602 [==============================] - 61s 102ms/step - loss: 1.1810 - accuracy: 0.4840 - val_loss: 1.5004 - val_accuracy: 0.2686\n",
            "Epoch 4/50\n",
            "602/602 [==============================] - 61s 102ms/step - loss: 1.0770 - accuracy: 0.5443 - val_loss: 1.1397 - val_accuracy: 0.4841\n",
            "Epoch 5/50\n",
            "602/602 [==============================] - 62s 103ms/step - loss: 0.9685 - accuracy: 0.5986 - val_loss: 1.4049 - val_accuracy: 0.3822\n",
            "Epoch 6/50\n",
            "602/602 [==============================] - 65s 108ms/step - loss: 0.8941 - accuracy: 0.6280 - val_loss: 1.4514 - val_accuracy: 0.4513\n",
            "Epoch 7/50\n",
            "602/602 [==============================] - 63s 105ms/step - loss: 0.8278 - accuracy: 0.6605 - val_loss: 1.5400 - val_accuracy: 0.4076\n",
            "Epoch 8/50\n",
            "602/602 [==============================] - 63s 104ms/step - loss: 0.7750 - accuracy: 0.6888 - val_loss: 1.0336 - val_accuracy: 0.5799\n",
            "Epoch 9/50\n",
            "602/602 [==============================] - 66s 110ms/step - loss: 0.7268 - accuracy: 0.7088 - val_loss: 1.2018 - val_accuracy: 0.5311\n",
            "Epoch 10/50\n",
            "602/602 [==============================] - 63s 104ms/step - loss: 0.6753 - accuracy: 0.7331 - val_loss: 1.3473 - val_accuracy: 0.4745\n",
            "Epoch 11/50\n",
            "602/602 [==============================] - 63s 105ms/step - loss: 0.6386 - accuracy: 0.7489 - val_loss: 0.9759 - val_accuracy: 0.6182\n",
            "Epoch 12/50\n",
            "602/602 [==============================] - 62s 102ms/step - loss: 0.5997 - accuracy: 0.7711 - val_loss: 0.9870 - val_accuracy: 0.6483\n",
            "Epoch 13/50\n",
            "602/602 [==============================] - 65s 108ms/step - loss: 0.5689 - accuracy: 0.7779 - val_loss: 0.6552 - val_accuracy: 0.7362\n",
            "Epoch 14/50\n",
            "602/602 [==============================] - 61s 101ms/step - loss: 0.5471 - accuracy: 0.7901 - val_loss: 0.8151 - val_accuracy: 0.6587\n",
            "Epoch 15/50\n",
            "602/602 [==============================] - 61s 102ms/step - loss: 0.5190 - accuracy: 0.8038 - val_loss: 2.2842 - val_accuracy: 0.3960\n",
            "Epoch 16/50\n",
            "602/602 [==============================] - 65s 108ms/step - loss: 0.5028 - accuracy: 0.8080 - val_loss: 1.1130 - val_accuracy: 0.6284\n",
            "Epoch 17/50\n",
            "602/602 [==============================] - 63s 104ms/step - loss: 0.4764 - accuracy: 0.8195 - val_loss: 1.0403 - val_accuracy: 0.6464\n",
            "Epoch 18/50\n",
            "602/602 [==============================] - 62s 103ms/step - loss: 0.4634 - accuracy: 0.8215 - val_loss: 0.8215 - val_accuracy: 0.6741\n",
            "Epoch 19/50\n",
            "602/602 [==============================] - 62s 104ms/step - loss: 0.4376 - accuracy: 0.8367 - val_loss: 0.6645 - val_accuracy: 0.7450\n",
            "Epoch 20/50\n",
            "602/602 [==============================] - 64s 106ms/step - loss: 0.4265 - accuracy: 0.8422 - val_loss: 0.6724 - val_accuracy: 0.7578\n",
            "Epoch 21/50\n",
            "602/602 [==============================] - 62s 103ms/step - loss: 0.4012 - accuracy: 0.8487 - val_loss: 0.5757 - val_accuracy: 0.7913\n",
            "Epoch 22/50\n",
            "602/602 [==============================] - 62s 103ms/step - loss: 0.3890 - accuracy: 0.8543 - val_loss: 0.6880 - val_accuracy: 0.7589\n",
            "Epoch 23/50\n",
            "602/602 [==============================] - 63s 105ms/step - loss: 0.3820 - accuracy: 0.8591 - val_loss: 0.6822 - val_accuracy: 0.7560\n",
            "Epoch 24/50\n",
            "602/602 [==============================] - 63s 104ms/step - loss: 0.3658 - accuracy: 0.8644 - val_loss: 0.7834 - val_accuracy: 0.7335\n",
            "Epoch 25/50\n",
            "602/602 [==============================] - 63s 105ms/step - loss: 0.3518 - accuracy: 0.8681 - val_loss: 0.7275 - val_accuracy: 0.7483\n",
            "Epoch 26/50\n",
            "602/602 [==============================] - 62s 102ms/step - loss: 0.3426 - accuracy: 0.8734 - val_loss: 0.6207 - val_accuracy: 0.7803\n",
            "Epoch 27/50\n",
            "602/602 [==============================] - 65s 109ms/step - loss: 0.3262 - accuracy: 0.8801 - val_loss: 0.7546 - val_accuracy: 0.7520\n",
            "Epoch 28/50\n",
            "602/602 [==============================] - 62s 103ms/step - loss: 0.3230 - accuracy: 0.8805 - val_loss: 0.5546 - val_accuracy: 0.7996\n",
            "Epoch 29/50\n",
            "602/602 [==============================] - 62s 103ms/step - loss: 0.3202 - accuracy: 0.8822 - val_loss: 0.7535 - val_accuracy: 0.7481\n",
            "Epoch 30/50\n",
            "602/602 [==============================] - 62s 103ms/step - loss: 0.2977 - accuracy: 0.8897 - val_loss: 0.6725 - val_accuracy: 0.7801\n",
            "Epoch 31/50\n",
            "602/602 [==============================] - 65s 108ms/step - loss: 0.2833 - accuracy: 0.8977 - val_loss: 0.4137 - val_accuracy: 0.8528\n",
            "Epoch 32/50\n",
            "602/602 [==============================] - 62s 103ms/step - loss: 0.2844 - accuracy: 0.8970 - val_loss: 0.7372 - val_accuracy: 0.7784\n",
            "Epoch 33/50\n",
            "602/602 [==============================] - 62s 104ms/step - loss: 0.2773 - accuracy: 0.8980 - val_loss: 1.0497 - val_accuracy: 0.6957\n",
            "Epoch 34/50\n",
            "602/602 [==============================] - 64s 106ms/step - loss: 0.2739 - accuracy: 0.8995 - val_loss: 0.4134 - val_accuracy: 0.8389\n",
            "Epoch 35/50\n",
            "602/602 [==============================] - 62s 103ms/step - loss: 0.2734 - accuracy: 0.9006 - val_loss: 0.4140 - val_accuracy: 0.8512\n",
            "Epoch 36/50\n",
            "602/602 [==============================] - 64s 106ms/step - loss: 0.2542 - accuracy: 0.9076 - val_loss: 0.5497 - val_accuracy: 0.8142\n",
            "Epoch 37/50\n",
            "602/602 [==============================] - 62s 103ms/step - loss: 0.2543 - accuracy: 0.9090 - val_loss: 0.4627 - val_accuracy: 0.8219\n",
            "Epoch 38/50\n",
            "602/602 [==============================] - 64s 107ms/step - loss: 0.2535 - accuracy: 0.9117 - val_loss: 0.4253 - val_accuracy: 0.8433\n",
            "Epoch 39/50\n",
            "602/602 [==============================] - 63s 106ms/step - loss: 0.2362 - accuracy: 0.9154 - val_loss: 0.4235 - val_accuracy: 0.8454\n",
            "Epoch 40/50\n",
            "602/602 [==============================] - 62s 102ms/step - loss: 0.2338 - accuracy: 0.9147 - val_loss: 0.4986 - val_accuracy: 0.8237\n",
            "Epoch 41/50\n",
            "602/602 [==============================] - 65s 107ms/step - loss: 0.2344 - accuracy: 0.9164 - val_loss: 0.4964 - val_accuracy: 0.8393\n",
            "Epoch 42/50\n",
            "602/602 [==============================] - 62s 102ms/step - loss: 0.2272 - accuracy: 0.9196 - val_loss: 0.8782 - val_accuracy: 0.7707\n",
            "Epoch 43/50\n",
            "602/602 [==============================] - 63s 104ms/step - loss: 0.2276 - accuracy: 0.9198 - val_loss: 0.4445 - val_accuracy: 0.8526\n",
            "Epoch 44/50\n",
            "602/602 [==============================] - 63s 105ms/step - loss: 0.2224 - accuracy: 0.9207 - val_loss: 0.4407 - val_accuracy: 0.8501\n",
            "Epoch 45/50\n",
            "602/602 [==============================] - 64s 106ms/step - loss: 0.2135 - accuracy: 0.9228 - val_loss: 0.3873 - val_accuracy: 0.8624\n",
            "Epoch 46/50\n",
            "602/602 [==============================] - 62s 103ms/step - loss: 0.2104 - accuracy: 0.9243 - val_loss: 0.3338 - val_accuracy: 0.8776\n",
            "Epoch 47/50\n",
            "602/602 [==============================] - 62s 103ms/step - loss: 0.2098 - accuracy: 0.9259 - val_loss: 0.3565 - val_accuracy: 0.8761\n",
            "Epoch 48/50\n",
            "602/602 [==============================] - 62s 102ms/step - loss: 0.2140 - accuracy: 0.9245 - val_loss: 0.4872 - val_accuracy: 0.8406\n",
            "Epoch 49/50\n",
            "602/602 [==============================] - 64s 106ms/step - loss: 0.2007 - accuracy: 0.9298 - val_loss: 0.4694 - val_accuracy: 0.8331\n",
            "Epoch 50/50\n",
            "602/602 [==============================] - 62s 102ms/step - loss: 0.1959 - accuracy: 0.9320 - val_loss: 0.3251 - val_accuracy: 0.8828\n"
          ]
        }
      ]
    },
    {
      "cell_type": "code",
      "source": [
        "# Evaluasi model\n",
        "y_pred = model.predict(X_test)\n",
        "y_pred_classes = np.argmax(y_pred, axis=1)\n",
        "y_true = np.argmax(y_test, axis=1)"
      ],
      "metadata": {
        "colab": {
          "base_uri": "https://localhost:8080/"
        },
        "id": "csUA_ljJTHk_",
        "outputId": "01c82607-e1ee-442c-d53a-2e6117fa6da0"
      },
      "execution_count": null,
      "outputs": [
        {
          "output_type": "stream",
          "name": "stdout",
          "text": [
            "151/151 [==============================] - 5s 26ms/step\n"
          ]
        }
      ]
    },
    {
      "cell_type": "code",
      "source": [
        "# Confusion matrix\n",
        "cm = confusion_matrix(y_true, y_pred_classes)\n",
        "plt.figure(figsize=(10, 7))\n",
        "sns.heatmap(cm, annot=True, fmt='d', cmap='Blues', xticklabels=le.classes_, yticklabels=le.classes_)\n",
        "plt.xlabel('Predicted')\n",
        "plt.ylabel('True')\n",
        "plt.show()"
      ],
      "metadata": {
        "colab": {
          "base_uri": "https://localhost:8080/",
          "height": 619
        },
        "id": "jGP9Osg3TKWF",
        "outputId": "e6603bd5-3076-4b33-9863-a844ac62eef0"
      },
      "execution_count": null,
      "outputs": [
        {
          "output_type": "display_data",
          "data": {
            "text/plain": [
              "<Figure size 1000x700 with 2 Axes>"
            ],
            "image/png": "[encoded data removed]"
          },
          "metadata": {}
        }
      ]
    },
    {
      "cell_type": "code",
      "source": [
        "# Classification report\n",
        "print(classification_report(y_true, y_pred_classes, target_names=le.classes_))"
      ],
      "metadata": {
        "colab": {
          "base_uri": "https://localhost:8080/"
        },
        "id": "yv-PocqJTNr1",
        "outputId": "d8646788-aeaa-4c7e-fd94-799061d41c27"
      },
      "execution_count": null,
      "outputs": [
        {
          "output_type": "stream",
          "name": "stdout",
          "text": [
            "                     precision    recall  f1-score   support\n",
            "\n",
            "Ban Belakang Kempes       0.87      0.98      0.92      1203\n",
            "   Ban Depan Kempes       0.91      0.79      0.85      1203\n",
            "         Ban Normal       0.88      0.91      0.90      1203\n",
            "   Kedua Ban Kempes       0.87      0.85      0.86      1202\n",
            "\n",
            "           accuracy                           0.88      4811\n",
            "          macro avg       0.88      0.88      0.88      4811\n",
            "       weighted avg       0.88      0.88      0.88      4811\n",
            "\n"
          ]
        }
      ]
    },
    {
      "cell_type": "code",
      "source": [
        "# Plotting training & validation accuracy values\n",
        "plt.figure(figsize=(12, 4))\n",
        "\n",
        "plt.subplot(1, 2, 1)\n",
        "plt.plot(history.history['accuracy'])\n",
        "plt.plot(history.history['val_accuracy'])\n",
        "plt.title('Model accuracy')\n",
        "plt.ylabel('Accuracy')\n",
        "plt.xlabel('Epoch')\n",
        "plt.legend(['Train', 'Validation'], loc='upper left')"
      ],
      "metadata": {
        "colab": {
          "base_uri": "https://localhost:8080/",
          "height": 427
        },
        "id": "_R8lulfrUjni",
        "outputId": "ced84a24-4aa1-4790-deb2-fb2f70b54bdf"
      },
      "execution_count": null,
      "outputs": [
        {
          "output_type": "execute_result",
          "data": {
            "text/plain": [
              "<matplotlib.legend.Legend at 0x7e6c67687eb0>"
            ]
          },
          "metadata": {},
          "execution_count": 59
        },
        {
          "output_type": "display_data",
          "data": {
            "text/plain": [
              "<Figure size 1200x400 with 1 Axes>"
            ],
            "image/png": "[encoded data removed]"
          },
          "metadata": {}
        }
      ]
    },
    {
      "cell_type": "code",
      "source": [
        "# Plotting training & validation loss values\n",
        "plt.subplot(1, 2, 2)\n",
        "plt.plot(history.history['loss'])\n",
        "plt.plot(history.history['val_loss'])\n",
        "plt.title('Model loss')\n",
        "plt.ylabel('Loss')\n",
        "plt.xlabel('Epoch')\n",
        "plt.legend(['Train', 'Validation'], loc='upper left')\n",
        "\n",
        "plt.show()"
      ],
      "metadata": {
        "colab": {
          "base_uri": "https://localhost:8080/",
          "height": 472
        },
        "id": "NWcqf4I8UvRN",
        "outputId": "b4882f91-502e-4026-f324-fa6e7b4d9e63"
      },
      "execution_count": null,
      "outputs": [
        {
          "output_type": "display_data",
          "data": {
            "text/plain": [
              "<Figure size 640x480 with 1 Axes>"
            ],
            "image/png": "[encoded data removed]"
          },
          "metadata": {}
        }
      ]
    },
    {
      "cell_type": "code",
      "source": [
        "# Save the model for deployment\n",
        "model.save('/content/drive/MyDrive/Skripsi_Aji Rahman Hakim/Data/model_shuffle_50-10.keras')"
      ],
      "metadata": {
        "id": "LawZLFr27OrT"
      },
      "execution_count": null,
      "outputs": []
    },
    {
      "cell_type": "code",
      "source": [
        "# Load the trained model\n",
        "model = tf.keras.models.load_model('/content/drive/MyDrive/Skripsi_Aji Rahman Hakim/Data/model_shuffle_50-10.keras')"
      ],
      "metadata": {
        "id": "ZhIVKfZY7QSj"
      },
      "execution_count": null,
      "outputs": []
    },
    {
      "cell_type": "code",
      "source": [
        "# Convert the model to TensorFlow Lite\n",
        "converter = tf.lite.TFLiteConverter.from_keras_model(model)\n",
        "converter.target_spec.supported_ops = [tf.lite.OpsSet.TFLITE_BUILTINS, tf.lite.OpsSet.SELECT_TF_OPS]\n",
        "converter._experimental_lower_tensor_list_ops = False\n",
        "tflite_model = converter.convert()"
      ],
      "metadata": {
        "id": "DAt9VWuG7T0d"
      },
      "execution_count": null,
      "outputs": []
    },
    {
      "cell_type": "code",
      "source": [
        "# Save the TensorFlow Lite model to a file\n",
        "with open('/content/drive/MyDrive/Skripsi_Aji Rahman Hakim/Data/model_shuffle_50-10.tflite', 'wb') as f:\n",
        "    f.write(tflite_model)\n",
        "\n",
        "print(\"Model has been converted to TensorFlow Lite and saved.\")"
      ],
      "metadata": {
        "colab": {
          "base_uri": "https://localhost:8080/"
        },
        "id": "TgjqjIfJ61u6",
        "outputId": "e598fed9-44ce-46d3-d60d-25e1eebbc863"
      },
      "execution_count": null,
      "outputs": [
        {
          "output_type": "stream",
          "name": "stdout",
          "text": [
            "Model has been converted to TensorFlow Lite and saved.\n"
          ]
        }
      ]
    }
  ]
}