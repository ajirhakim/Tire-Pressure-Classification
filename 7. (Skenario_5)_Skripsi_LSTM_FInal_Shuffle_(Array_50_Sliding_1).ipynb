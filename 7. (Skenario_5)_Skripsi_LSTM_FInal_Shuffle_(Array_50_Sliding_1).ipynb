{
  "nbformat": 4,
  "nbformat_minor": 0,
  "metadata": {
    "colab": {
      "provenance": []
    },
    "kernelspec": {
      "name": "python3",
      "display_name": "Python 3"
    },
    "language_info": {
      "name": "python"
    }
  },
  "cells": [
    {
      "cell_type": "code",
      "execution_count": null,
      "metadata": {
        "colab": {
          "base_uri": "https://localhost:8080/"
        },
        "id": "jsGiCzxVc02K",
        "outputId": "52031acd-f8f3-4952-b28d-a825a0867a5a"
      },
      "outputs": [
        {
          "output_type": "stream",
          "name": "stdout",
          "text": [
            "Drive already mounted at /content/drive; to attempt to forcibly remount, call drive.mount(\"/content/drive\", force_remount=True).\n"
          ]
        }
      ],
      "source": [
        "import pandas as pd\n",
        "import numpy as np\n",
        "from sklearn.preprocessing import LabelEncoder\n",
        "from sklearn.model_selection import train_test_split, StratifiedKFold\n",
        "from tensorflow.keras.models import Sequential\n",
        "from tensorflow.keras.layers import LSTM, Dense, Dropout, BatchNormalization\n",
        "from tensorflow.keras.callbacks import EarlyStopping\n",
        "from tensorflow.keras.optimizers import Adam\n",
        "from tensorflow.keras.utils import to_categorical\n",
        "import matplotlib.pyplot as plt\n",
        "import seaborn as sns\n",
        "from sklearn.metrics import confusion_matrix, classification_report\n",
        "import tensorflow as tf\n",
        "from google.colab import drive\n",
        "drive.mount(\"/content/drive\")"
      ]
    },
    {
      "cell_type": "code",
      "source": [
        "# Load the data &inspect data\n",
        "data = pd.read_csv('/content/drive/MyDrive/Skripsi_Aji Rahman Hakim/Data/undersampled_data.csv')\n",
        "data.head()"
      ],
      "metadata": {
        "colab": {
          "base_uri": "https://localhost:8080/",
          "height": 206
        },
        "id": "Fc38P7sqc-ym",
        "outputId": "dbfc546f-f43e-40ef-fd1e-7de8f4f4f9ca"
      },
      "execution_count": null,
      "outputs": [
        {
          "output_type": "execute_result",
          "data": {
            "text/plain": [
              "   AccX  AccY  AccZ  GyroX  GyroY  GyroZ                Label\n",
              "0  0.15  0.03  1.04  -0.09  -0.04  -0.03  Ban Belakang Kempes\n",
              "1  0.16  0.05  1.03  -0.09   0.00  -0.03  Ban Belakang Kempes\n",
              "2  0.15  0.03  1.03  -0.09   0.02  -0.02  Ban Belakang Kempes\n",
              "3  0.12  0.03  1.03  -0.09   0.00  -0.02  Ban Belakang Kempes\n",
              "4  0.14  0.03  1.04  -0.09  -0.03  -0.03  Ban Belakang Kempes"
            ],
            "text/html": [
              "\n",
              "  <div id=\"df-163c95bb-cdb8-4b4c-b002-ab632cdbdced\" class=\"colab-df-container\">\n",
              "    <div>\n",
              "<style scoped>\n",
              "    .dataframe tbody tr th:only-of-type {\n",
              "        vertical-align: middle;\n",
              "    }\n",
              "\n",
              "    .dataframe tbody tr th {\n",
              "        vertical-align: top;\n",
              "    }\n",
              "\n",
              "    .dataframe thead th {\n",
              "        text-align: right;\n",
              "    }\n",
              "</style>\n",
              "<table border=\"1\" class=\"dataframe\">\n",
              "  <thead>\n",
              "    <tr style=\"text-align: right;\">\n",
              "      <th></th>\n",
              "      <th>AccX</th>\n",
              "      <th>AccY</th>\n",
              "      <th>AccZ</th>\n",
              "      <th>GyroX</th>\n",
              "      <th>GyroY</th>\n",
              "      <th>GyroZ</th>\n",
              "      <th>Label</th>\n",
              "    </tr>\n",
              "  </thead>\n",
              "  <tbody>\n",
              "    <tr>\n",
              "      <th>0</th>\n",
              "      <td>0.15</td>\n",
              "      <td>0.03</td>\n",
              "      <td>1.04</td>\n",
              "      <td>-0.09</td>\n",
              "      <td>-0.04</td>\n",
              "      <td>-0.03</td>\n",
              "      <td>Ban Belakang Kempes</td>\n",
              "    </tr>\n",
              "    <tr>\n",
              "      <th>1</th>\n",
              "      <td>0.16</td>\n",
              "      <td>0.05</td>\n",
              "      <td>1.03</td>\n",
              "      <td>-0.09</td>\n",
              "      <td>0.00</td>\n",
              "      <td>-0.03</td>\n",
              "      <td>Ban Belakang Kempes</td>\n",
              "    </tr>\n",
              "    <tr>\n",
              "      <th>2</th>\n",
              "      <td>0.15</td>\n",
              "      <td>0.03</td>\n",
              "      <td>1.03</td>\n",
              "      <td>-0.09</td>\n",
              "      <td>0.02</td>\n",
              "      <td>-0.02</td>\n",
              "      <td>Ban Belakang Kempes</td>\n",
              "    </tr>\n",
              "    <tr>\n",
              "      <th>3</th>\n",
              "      <td>0.12</td>\n",
              "      <td>0.03</td>\n",
              "      <td>1.03</td>\n",
              "      <td>-0.09</td>\n",
              "      <td>0.00</td>\n",
              "      <td>-0.02</td>\n",
              "      <td>Ban Belakang Kempes</td>\n",
              "    </tr>\n",
              "    <tr>\n",
              "      <th>4</th>\n",
              "      <td>0.14</td>\n",
              "      <td>0.03</td>\n",
              "      <td>1.04</td>\n",
              "      <td>-0.09</td>\n",
              "      <td>-0.03</td>\n",
              "      <td>-0.03</td>\n",
              "      <td>Ban Belakang Kempes</td>\n",
              "    </tr>\n",
              "  </tbody>\n",
              "</table>\n",
              "</div>\n",
              "    <div class=\"colab-df-buttons\">\n",
              "\n",
              "  <div class=\"colab-df-container\">\n",
              "    <button class=\"colab-df-convert\" onclick=\"convertToInteractive('df-163c95bb-cdb8-4b4c-b002-ab632cdbdced')\"\n",
              "            title=\"Convert this dataframe to an interactive table.\"\n",
              "            style=\"display:none;\">\n",
              "\n",
              "  <svg xmlns=\"http://www.w3.org/2000/svg\" height=\"24px\" viewBox=\"0 -960 960 960\">\n",
              "    <path d=\"M120-120v-720h720v720H120Zm60-500h600v-160H180v160Zm220 220h160v-160H400v160Zm0 220h160v-160H400v160ZM180-400h160v-160H180v160Zm440 0h160v-160H620v160ZM180-180h160v-160H180v160Zm440 0h160v-160H620v160Z\"/>\n",
              "  </svg>\n",
              "    </button>\n",
              "\n",
              "  <style>\n",
              "    .colab-df-container {\n",
              "      display:flex;\n",
              "      gap: 12px;\n",
              "    }\n",
              "\n",
              "    .colab-df-convert {\n",
              "      background-color: #E8F0FE;\n",
              "      border: none;\n",
              "      border-radius: 50%;\n",
              "      cursor: pointer;\n",
              "      display: none;\n",
              "      fill: #1967D2;\n",
              "      height: 32px;\n",
              "      padding: 0 0 0 0;\n",
              "      width: 32px;\n",
              "    }\n",
              "\n",
              "    .colab-df-convert:hover {\n",
              "      background-color: #E2EBFA;\n",
              "      box-shadow: 0px 1px 2px rgba(60, 64, 67, 0.3), 0px 1px 3px 1px rgba(60, 64, 67, 0.15);\n",
              "      fill: #174EA6;\n",
              "    }\n",
              "\n",
              "    .colab-df-buttons div {\n",
              "      margin-bottom: 4px;\n",
              "    }\n",
              "\n",
              "    [theme=dark] .colab-df-convert {\n",
              "      background-color: #3B4455;\n",
              "      fill: #D2E3FC;\n",
              "    }\n",
              "\n",
              "    [theme=dark] .colab-df-convert:hover {\n",
              "      background-color: #434B5C;\n",
              "      box-shadow: 0px 1px 3px 1px rgba(0, 0, 0, 0.15);\n",
              "      filter: drop-shadow(0px 1px 2px rgba(0, 0, 0, 0.3));\n",
              "      fill: #FFFFFF;\n",
              "    }\n",
              "  </style>\n",
              "\n",
              "    <script>\n",
              "      const buttonEl =\n",
              "        document.querySelector('#df-163c95bb-cdb8-4b4c-b002-ab632cdbdced button.colab-df-convert');\n",
              "      buttonEl.style.display =\n",
              "        google.colab.kernel.accessAllowed ? 'block' : 'none';\n",
              "\n",
              "      async function convertToInteractive(key) {\n",
              "        const element = document.querySelector('#df-163c95bb-cdb8-4b4c-b002-ab632cdbdced');\n",
              "        const dataTable =\n",
              "          await google.colab.kernel.invokeFunction('convertToInteractive',\n",
              "                                                    [key], {});\n",
              "        if (!dataTable) return;\n",
              "\n",
              "        const docLinkHtml = 'Like what you see? Visit the ' +\n",
              "          '<a target=\"_blank\" href=https://colab.research.google.com/notebooks/data_table.ipynb>data table notebook</a>'\n",
              "          + ' to learn more about interactive tables.';\n",
              "        element.innerHTML = '';\n",
              "        dataTable['output_type'] = 'display_data';\n",
              "        await google.colab.output.renderOutput(dataTable, element);\n",
              "        const docLink = document.createElement('div');\n",
              "        docLink.innerHTML = docLinkHtml;\n",
              "        element.appendChild(docLink);\n",
              "      }\n",
              "    </script>\n",
              "  </div>\n",
              "\n",
              "\n",
              "<div id=\"df-f047b580-6ebb-4d62-a271-72d61509daf5\">\n",
              "  <button class=\"colab-df-quickchart\" onclick=\"quickchart('df-f047b580-6ebb-4d62-a271-72d61509daf5')\"\n",
              "            title=\"Suggest charts\"\n",
              "            style=\"display:none;\">\n",
              "\n",
              "<svg xmlns=\"http://www.w3.org/2000/svg\" height=\"24px\"viewBox=\"0 0 24 24\"\n",
              "     width=\"24px\">\n",
              "    <g>\n",
              "        <path d=\"M19 3H5c-1.1 0-2 .9-2 2v14c0 1.1.9 2 2 2h14c1.1 0 2-.9 2-2V5c0-1.1-.9-2-2-2zM9 17H7v-7h2v7zm4 0h-2V7h2v10zm4 0h-2v-4h2v4z\"/>\n",
              "    </g>\n",
              "</svg>\n",
              "  </button>\n",
              "\n",
              "<style>\n",
              "  .colab-df-quickchart {\n",
              "      --bg-color: #E8F0FE;\n",
              "      --fill-color: #1967D2;\n",
              "      --hover-bg-color: #E2EBFA;\n",
              "      --hover-fill-color: #174EA6;\n",
              "      --disabled-fill-color: #AAA;\n",
              "      --disabled-bg-color: #DDD;\n",
              "  }\n",
              "\n",
              "  [theme=dark] .colab-df-quickchart {\n",
              "      --bg-color: #3B4455;\n",
              "      --fill-color: #D2E3FC;\n",
              "      --hover-bg-color: #434B5C;\n",
              "      --hover-fill-color: #FFFFFF;\n",
              "      --disabled-bg-color: #3B4455;\n",
              "      --disabled-fill-color: #666;\n",
              "  }\n",
              "\n",
              "  .colab-df-quickchart {\n",
              "    background-color: var(--bg-color);\n",
              "    border: none;\n",
              "    border-radius: 50%;\n",
              "    cursor: pointer;\n",
              "    display: none;\n",
              "    fill: var(--fill-color);\n",
              "    height: 32px;\n",
              "    padding: 0;\n",
              "    width: 32px;\n",
              "  }\n",
              "\n",
              "  .colab-df-quickchart:hover {\n",
              "    background-color: var(--hover-bg-color);\n",
              "    box-shadow: 0 1px 2px rgba(60, 64, 67, 0.3), 0 1px 3px 1px rgba(60, 64, 67, 0.15);\n",
              "    fill: var(--button-hover-fill-color);\n",
              "  }\n",
              "\n",
              "  .colab-df-quickchart-complete:disabled,\n",
              "  .colab-df-quickchart-complete:disabled:hover {\n",
              "    background-color: var(--disabled-bg-color);\n",
              "    fill: var(--disabled-fill-color);\n",
              "    box-shadow: none;\n",
              "  }\n",
              "\n",
              "  .colab-df-spinner {\n",
              "    border: 2px solid var(--fill-color);\n",
              "    border-color: transparent;\n",
              "    border-bottom-color: var(--fill-color);\n",
              "    animation:\n",
              "      spin 1s steps(1) infinite;\n",
              "  }\n",
              "\n",
              "  @keyframes spin {\n",
              "    0% {\n",
              "      border-color: transparent;\n",
              "      border-bottom-color: var(--fill-color);\n",
              "      border-left-color: var(--fill-color);\n",
              "    }\n",
              "    20% {\n",
              "      border-color: transparent;\n",
              "      border-left-color: var(--fill-color);\n",
              "      border-top-color: var(--fill-color);\n",
              "    }\n",
              "    30% {\n",
              "      border-color: transparent;\n",
              "      border-left-color: var(--fill-color);\n",
              "      border-top-color: var(--fill-color);\n",
              "      border-right-color: var(--fill-color);\n",
              "    }\n",
              "    40% {\n",
              "      border-color: transparent;\n",
              "      border-right-color: var(--fill-color);\n",
              "      border-top-color: var(--fill-color);\n",
              "    }\n",
              "    60% {\n",
              "      border-color: transparent;\n",
              "      border-right-color: var(--fill-color);\n",
              "    }\n",
              "    80% {\n",
              "      border-color: transparent;\n",
              "      border-right-color: var(--fill-color);\n",
              "      border-bottom-color: var(--fill-color);\n",
              "    }\n",
              "    90% {\n",
              "      border-color: transparent;\n",
              "      border-bottom-color: var(--fill-color);\n",
              "    }\n",
              "  }\n",
              "</style>\n",
              "\n",
              "  <script>\n",
              "    async function quickchart(key) {\n",
              "      const quickchartButtonEl =\n",
              "        document.querySelector('#' + key + ' button');\n",
              "      quickchartButtonEl.disabled = true;  // To prevent multiple clicks.\n",
              "      quickchartButtonEl.classList.add('colab-df-spinner');\n",
              "      try {\n",
              "        const charts = await google.colab.kernel.invokeFunction(\n",
              "            'suggestCharts', [key], {});\n",
              "      } catch (error) {\n",
              "        console.error('Error during call to suggestCharts:', error);\n",
              "      }\n",
              "      quickchartButtonEl.classList.remove('colab-df-spinner');\n",
              "      quickchartButtonEl.classList.add('colab-df-quickchart-complete');\n",
              "    }\n",
              "    (() => {\n",
              "      let quickchartButtonEl =\n",
              "        document.querySelector('#df-f047b580-6ebb-4d62-a271-72d61509daf5 button');\n",
              "      quickchartButtonEl.style.display =\n",
              "        google.colab.kernel.accessAllowed ? 'block' : 'none';\n",
              "    })();\n",
              "  </script>\n",
              "</div>\n",
              "\n",
              "    </div>\n",
              "  </div>\n"
            ],
            "application/vnd.google.colaboratory.intrinsic+json": {
              "type": "dataframe",
              "variable_name": "data"
            }
          },
          "metadata": {},
          "execution_count": 31
        }
      ]
    },
    {
      "cell_type": "code",
      "source": [
        "# Encode labels\n",
        "le = LabelEncoder()\n",
        "data['label_encoded'] = le.fit_transform(data['Label'])"
      ],
      "metadata": {
        "id": "G1nCN64CdOvJ"
      },
      "execution_count": null,
      "outputs": []
    },
    {
      "cell_type": "code",
      "source": [
        "def split_into_segments(df, segment_length=5, sampling_rate=0.1, step=1):\n",
        "    samples_per_segment = int(segment_length / sampling_rate)\n",
        "    segments = []\n",
        "    labels = []\n",
        "\n",
        "    for start in range(0, len(df) - samples_per_segment, step):  # Sliding window 10 sampel\n",
        "        end = start + samples_per_segment\n",
        "        segment = df.iloc[start:end]\n",
        "\n",
        "        if len(segment) == samples_per_segment:\n",
        "            label_mode = segment['label_encoded'].mode()[0]\n",
        "            if len(segment['label_encoded'].unique()) == 1:  # Pastikan hanya ada satu label dalam segmen\n",
        "                segments.append(segment[['AccX', 'AccY', 'AccZ', 'GyroX', 'GyroY', 'GyroZ']].values)\n",
        "                labels.append(label_mode)\n",
        "            else:\n",
        "                continue  # Lanjutkan ke window berikutnya jika label lebih dari satu\n",
        "\n",
        "    return np.array(segments), np.array(labels)\n"
      ],
      "metadata": {
        "id": "IjSzrOtFfZsh"
      },
      "execution_count": null,
      "outputs": []
    },
    {
      "cell_type": "code",
      "source": [
        "# Membagi data menjadi segmen-segmen\n",
        "X, y = split_into_segments(data)"
      ],
      "metadata": {
        "id": "oztsCYlQP9PI"
      },
      "execution_count": null,
      "outputs": []
    },
    {
      "cell_type": "code",
      "source": [
        "# One-hot encoding for labels\n",
        "y = to_categorical(y, num_classes=4)"
      ],
      "metadata": {
        "id": "2-LiKu3WQCz2"
      },
      "execution_count": null,
      "outputs": []
    },
    {
      "cell_type": "code",
      "source": [
        "# Splitting data into training and testing using stratified split\n",
        "X_train, X_test, y_train, y_test = train_test_split(X, y, test_size=0.2, stratify=y, random_state=42)"
      ],
      "metadata": {
        "id": "jbXG3ufzQEUk"
      },
      "execution_count": null,
      "outputs": []
    },
    {
      "cell_type": "code",
      "source": [
        "\n",
        "\n",
        "# Menghitung jumlah sampel per label di data pelatihan\n",
        "unique_train, counts_train = np.unique(np.argmax(y_train, axis=1), return_counts=True)\n",
        "\n",
        "# Menghitung jumlah sampel per label di data pengujian\n",
        "unique_test, counts_test = np.unique(np.argmax(y_test, axis=1), return_counts=True)\n",
        "\n",
        "# Membuat plot distribusi label\n",
        "fig, ax = plt.subplots(1, 2, figsize=(12, 5))\n",
        "\n",
        "sns.barplot(x=unique_train, y=counts_train, ax=ax[0])\n",
        "ax[0].set_title('Distribusi Label pada Data Pelatihan')\n",
        "ax[0].set_xlabel('Label')\n",
        "ax[0].set_ylabel('Jumlah Sampel')\n",
        "\n",
        "sns.barplot(x=unique_test, y=counts_test, ax=ax[1])\n",
        "ax[1].set_title('Distribusi Label pada Data Pengujian')\n",
        "ax[1].set_xlabel('Label')\n",
        "ax[1].set_ylabel('Jumlah Sampel')\n",
        "\n",
        "plt.tight_layout()\n",
        "plt.show()\n"
      ],
      "metadata": {
        "colab": {
          "base_uri": "https://localhost:8080/",
          "height": 507
        },
        "id": "z2wB2rqsmdlH",
        "outputId": "065569a8-7cd3-4638-d2b2-cf06745055c2"
      },
      "execution_count": null,
      "outputs": [
        {
          "output_type": "display_data",
          "data": {
            "text/plain": [
              "<Figure size 1200x500 with 2 Axes>"
            ],
            "image/png": "[encoded data removed]"
          },
          "metadata": {}
        }
      ]
    },
    {
      "cell_type": "code",
      "source": [
        "# Creating the LSTM model\n",
        "model = Sequential()\n",
        "model.add(LSTM(100, return_sequences=True, input_shape=(X_train.shape[1], X_train.shape[2])))\n",
        "model.add(BatchNormalization())\n",
        "model.add(Dropout(0.2))"
      ],
      "metadata": {
        "id": "NMTU7mpXQG6J"
      },
      "execution_count": null,
      "outputs": []
    },
    {
      "cell_type": "code",
      "source": [
        "# Second LSTM layer\n",
        "model.add(LSTM(50, return_sequences=True))\n",
        "model.add(BatchNormalization())\n",
        "model.add(Dropout(0.2))"
      ],
      "metadata": {
        "id": "wRbn3X4TdcpC"
      },
      "execution_count": null,
      "outputs": []
    },
    {
      "cell_type": "code",
      "source": [
        "\n",
        "# Third LSTM layer\n",
        "model.add(LSTM(25))\n",
        "model.add(BatchNormalization())\n",
        "model.add(Dropout(0.2))"
      ],
      "metadata": {
        "id": "WyukTo0bde52"
      },
      "execution_count": null,
      "outputs": []
    },
    {
      "cell_type": "code",
      "source": [
        "# Adding a Dense output layer\n",
        "model.add(Dense(4, activation='softmax'))"
      ],
      "metadata": {
        "id": "HzhTDnpudibI"
      },
      "execution_count": null,
      "outputs": []
    },
    {
      "cell_type": "code",
      "source": [
        "# Compiling the model\n",
        "optimizer = Adam(learning_rate=0.001)\n",
        "model.compile(optimizer=optimizer, loss='categorical_crossentropy', metrics=['accuracy'])\n",
        "\n",
        "# Model summary\n",
        "model.summary()\n"
      ],
      "metadata": {
        "colab": {
          "base_uri": "https://localhost:8080/"
        },
        "id": "ACyZqOeYZ5An",
        "outputId": "1329ab1d-8c62-464c-b0d8-59a1555bed26"
      },
      "execution_count": null,
      "outputs": [
        {
          "output_type": "stream",
          "name": "stdout",
          "text": [
            "Model: \"sequential_2\"\n",
            "_________________________________________________________________\n",
            " Layer (type)                Output Shape              Param #   \n",
            "=================================================================\n",
            " lstm_6 (LSTM)               (None, 50, 100)           42800     \n",
            "                                                                 \n",
            " batch_normalization_6 (Bat  (None, 50, 100)           400       \n",
            " chNormalization)                                                \n",
            "                                                                 \n",
            " dropout_6 (Dropout)         (None, 50, 100)           0         \n",
            "                                                                 \n",
            " lstm_7 (LSTM)               (None, 50, 50)            30200     \n",
            "                                                                 \n",
            " batch_normalization_7 (Bat  (None, 50, 50)            200       \n",
            " chNormalization)                                                \n",
            "                                                                 \n",
            " dropout_7 (Dropout)         (None, 50, 50)            0         \n",
            "                                                                 \n",
            " lstm_8 (LSTM)               (None, 25)                7600      \n",
            "                                                                 \n",
            " batch_normalization_8 (Bat  (None, 25)                100       \n",
            " chNormalization)                                                \n",
            "                                                                 \n",
            " dropout_8 (Dropout)         (None, 25)                0         \n",
            "                                                                 \n",
            " dense_1 (Dense)             (None, 4)                 104       \n",
            "                                                                 \n",
            "=================================================================\n",
            "Total params: 81404 (317.98 KB)\n",
            "Trainable params: 81054 (316.62 KB)\n",
            "Non-trainable params: 350 (1.37 KB)\n",
            "_________________________________________________________________\n"
          ]
        }
      ]
    },
    {
      "cell_type": "code",
      "source": [
        "# Using early stopping\n",
        "early_stopping = EarlyStopping(monitor='val_loss', patience=5, restore_best_weights=True)\n"
      ],
      "metadata": {
        "id": "2GJPbdgUZ-oR"
      },
      "execution_count": null,
      "outputs": []
    },
    {
      "cell_type": "code",
      "source": [
        "# Training the model\n",
        "history = model.fit(X_train, y_train, epochs=10, batch_size=32, validation_data=(X_test, y_test), callbacks=[early_stopping], verbose=1)"
      ],
      "metadata": {
        "colab": {
          "base_uri": "https://localhost:8080/"
        },
        "id": "i8ljQE62QL8M",
        "outputId": "197e37b3-0ba6-4a57-d684-9a57c29313e4"
      },
      "execution_count": null,
      "outputs": [
        {
          "output_type": "stream",
          "name": "stdout",
          "text": [
            "Epoch 1/10\n",
            "6013/6013 [==============================] - 662s 109ms/step - loss: 0.9690 - accuracy: 0.5872 - val_loss: 1.0514 - val_accuracy: 0.5852\n",
            "Epoch 2/10\n",
            "6013/6013 [==============================] - 691s 115ms/step - loss: 0.5176 - accuracy: 0.8011 - val_loss: 0.5697 - val_accuracy: 0.7761\n",
            "Epoch 3/10\n",
            "6013/6013 [==============================] - 646s 108ms/step - loss: 0.3601 - accuracy: 0.8666 - val_loss: 0.5018 - val_accuracy: 0.8302\n",
            "Epoch 4/10\n",
            "6013/6013 [==============================] - 685s 114ms/step - loss: 0.2779 - accuracy: 0.8999 - val_loss: 0.3503 - val_accuracy: 0.8682\n",
            "Epoch 5/10\n",
            "6013/6013 [==============================] - 641s 107ms/step - loss: 0.2269 - accuracy: 0.9191 - val_loss: 0.2961 - val_accuracy: 0.8970\n",
            "Epoch 6/10\n",
            "6013/6013 [==============================] - 682s 113ms/step - loss: 0.1920 - accuracy: 0.9326 - val_loss: 0.2608 - val_accuracy: 0.9167\n",
            "Epoch 7/10\n",
            "6013/6013 [==============================] - 680s 113ms/step - loss: 0.1709 - accuracy: 0.9406 - val_loss: 0.1151 - val_accuracy: 0.9600\n",
            "Epoch 8/10\n",
            "6013/6013 [==============================] - 678s 113ms/step - loss: 0.1538 - accuracy: 0.9477 - val_loss: 0.1756 - val_accuracy: 0.9385\n",
            "Epoch 9/10\n",
            "6013/6013 [==============================] - 643s 107ms/step - loss: 0.1426 - accuracy: 0.9512 - val_loss: 0.0679 - val_accuracy: 0.9778\n",
            "Epoch 10/10\n",
            "6013/6013 [==============================] - 678s 113ms/step - loss: 0.1287 - accuracy: 0.9562 - val_loss: 0.0729 - val_accuracy: 0.9742\n"
          ]
        }
      ]
    },
    {
      "cell_type": "code",
      "source": [
        "# Evaluasi model\n",
        "y_pred = model.predict(X_test)\n",
        "y_pred_classes = np.argmax(y_pred, axis=1)\n",
        "y_true = np.argmax(y_test, axis=1)"
      ],
      "metadata": {
        "colab": {
          "base_uri": "https://localhost:8080/"
        },
        "id": "csUA_ljJTHk_",
        "outputId": "eb3627dd-f5a4-43d3-df95-382a0c9561b2"
      },
      "execution_count": null,
      "outputs": [
        {
          "output_type": "stream",
          "name": "stdout",
          "text": [
            "1504/1504 [==============================] - 61s 39ms/step\n"
          ]
        }
      ]
    },
    {
      "cell_type": "code",
      "source": [
        "# Confusion matrix\n",
        "cm = confusion_matrix(y_true, y_pred_classes)\n",
        "plt.figure(figsize=(10, 7))\n",
        "sns.heatmap(cm, annot=True, fmt='d', cmap='Blues', xticklabels=le.classes_, yticklabels=le.classes_)\n",
        "plt.xlabel('Predicted')\n",
        "plt.ylabel('True')\n",
        "plt.show()"
      ],
      "metadata": {
        "colab": {
          "base_uri": "https://localhost:8080/",
          "height": 619
        },
        "id": "jGP9Osg3TKWF",
        "outputId": "969bebc4-bc69-4690-b16b-59308363f026"
      },
      "execution_count": null,
      "outputs": [
        {
          "output_type": "display_data",
          "data": {
            "text/plain": [
              "<Figure size 1000x700 with 2 Axes>"
            ],
            "image/png": "[encoded data removed]"
          },
          "metadata": {}
        }
      ]
    },
    {
      "cell_type": "code",
      "source": [
        "# Classification report\n",
        "print(classification_report(y_true, y_pred_classes, target_names=le.classes_))"
      ],
      "metadata": {
        "colab": {
          "base_uri": "https://localhost:8080/"
        },
        "id": "yv-PocqJTNr1",
        "outputId": "42869a51-a0b7-45d3-9b7d-e64066248124"
      },
      "execution_count": null,
      "outputs": [
        {
          "output_type": "stream",
          "name": "stdout",
          "text": [
            "                     precision    recall  f1-score   support\n",
            "\n",
            "Ban Belakang Kempes       0.99      0.97      0.98     12025\n",
            "   Ban Depan Kempes       0.99      0.96      0.97     12024\n",
            "         Ban Normal       0.98      0.98      0.98     12024\n",
            "   Kedua Ban Kempes       0.94      0.99      0.97     12024\n",
            "\n",
            "           accuracy                           0.97     48097\n",
            "          macro avg       0.97      0.97      0.97     48097\n",
            "       weighted avg       0.97      0.97      0.97     48097\n",
            "\n"
          ]
        }
      ]
    },
    {
      "cell_type": "code",
      "source": [
        "# Plotting training & validation accuracy values\n",
        "plt.figure(figsize=(12, 4))\n",
        "\n",
        "plt.subplot(1, 2, 1)\n",
        "plt.plot(history.history['accuracy'])\n",
        "plt.plot(history.history['val_accuracy'])\n",
        "plt.title('Model accuracy')\n",
        "plt.ylabel('Accuracy')\n",
        "plt.xlabel('Epoch')\n",
        "plt.legend(['Train', 'Validation'], loc='upper left')"
      ],
      "metadata": {
        "colab": {
          "base_uri": "https://localhost:8080/",
          "height": 427
        },
        "id": "_R8lulfrUjni",
        "outputId": "169ab60e-f663-481c-9d3b-fc28c97d4b08"
      },
      "execution_count": null,
      "outputs": [
        {
          "output_type": "execute_result",
          "data": {
            "text/plain": [
              "<matplotlib.legend.Legend at 0x79beea483dc0>"
            ]
          },
          "metadata": {},
          "execution_count": 50
        },
        {
          "output_type": "display_data",
          "data": {
            "text/plain": [
              "<Figure size 1200x400 with 1 Axes>"
            ],
            "image/png": "[encoded data removed]"
          },
          "metadata": {}
        }
      ]
    },
    {
      "cell_type": "code",
      "source": [
        "# Plotting training & validation loss values\n",
        "plt.subplot(1, 2, 2)\n",
        "plt.plot(history.history['loss'])\n",
        "plt.plot(history.history['val_loss'])\n",
        "plt.title('Model loss')\n",
        "plt.ylabel('Loss')\n",
        "plt.xlabel('Epoch')\n",
        "plt.legend(['Train', 'Validation'], loc='upper left')\n",
        "\n",
        "plt.show()"
      ],
      "metadata": {
        "colab": {
          "base_uri": "https://localhost:8080/",
          "height": 472
        },
        "id": "NWcqf4I8UvRN",
        "outputId": "79801fe2-30df-4f1d-e371-a2aa3acf73e9"
      },
      "execution_count": null,
      "outputs": [
        {
          "output_type": "display_data",
          "data": {
            "text/plain": [
              "<Figure size 640x480 with 1 Axes>"
            ],
            "image/png": "[encoded data removed]"
          },
          "metadata": {}
        }
      ]
    },
    {
      "cell_type": "code",
      "source": [
        "# Save the model for deployment\n",
        "model.save('/content/drive/MyDrive/Skripsi_Aji Rahman Hakim/Data/model_shuffle_50-1.keras')"
      ],
      "metadata": {
        "id": "LawZLFr27OrT"
      },
      "execution_count": null,
      "outputs": []
    },
    {
      "cell_type": "code",
      "source": [
        "# Load the trained model\n",
        "model = tf.keras.models.load_model('/content/drive/MyDrive/Skripsi_Aji Rahman Hakim/Data/model_shuffle_50-1.keras')"
      ],
      "metadata": {
        "id": "ZhIVKfZY7QSj"
      },
      "execution_count": null,
      "outputs": []
    },
    {
      "cell_type": "code",
      "source": [
        "# Convert the model to TensorFlow Lite\n",
        "converter = tf.lite.TFLiteConverter.from_keras_model(model)\n",
        "converter.target_spec.supported_ops = [tf.lite.OpsSet.TFLITE_BUILTINS, tf.lite.OpsSet.SELECT_TF_OPS]\n",
        "converter._experimental_lower_tensor_list_ops = False\n",
        "tflite_model = converter.convert()"
      ],
      "metadata": {
        "id": "DAt9VWuG7T0d"
      },
      "execution_count": null,
      "outputs": []
    },
    {
      "cell_type": "code",
      "source": [
        "# Save the TensorFlow Lite model to a file\n",
        "with open('/content/drive/MyDrive/Skripsi_Aji Rahman Hakim/Data/model_shuffle_50-1.tflite', 'wb') as f:\n",
        "    f.write(tflite_model)\n",
        "\n",
        "print(\"Model has been converted to TensorFlow Lite and saved.\")"
      ],
      "metadata": {
        "colab": {
          "base_uri": "https://localhost:8080/"
        },
        "id": "TgjqjIfJ61u6",
        "outputId": "201c6cef-9cd7-4a22-bc66-799c836a70ed"
      },
      "execution_count": null,
      "outputs": [
        {
          "output_type": "stream",
          "name": "stdout",
          "text": [
            "Model has been converted to TensorFlow Lite and saved.\n"
          ]
        }
      ]
    }
  ]
}